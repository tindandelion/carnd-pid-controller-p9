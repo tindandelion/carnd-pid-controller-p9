{
 "cells": [
  {
   "cell_type": "code",
   "execution_count": null,
   "metadata": {
    "collapsed": true,
    "deletable": true,
    "editable": true
   },
   "outputs": [],
   "source": [
    "import json\n",
    "import asyncio\n",
    "import websockets"
   ]
  },
  {
   "cell_type": "code",
   "execution_count": null,
   "metadata": {
    "collapsed": false,
    "deletable": true,
    "editable": true
   },
   "outputs": [],
   "source": [
    "class SimulatorResponder:\n",
    "    valid_prefix = '42'\n",
    "    \n",
    "    def is_valid_message(self, message):\n",
    "        return message.startswith(self.valid_prefix)\n",
    "    \n",
    "    def parse_message(self,message):\n",
    "        return json.loads(message)\n",
    "    \n",
    "    def invoke_pid(self, speed, cte, steering_angle):\n",
    "        return -0.05\n",
    "    \n",
    "    def make_output_string(self, tag, payload):\n",
    "        return self.valid_prefix + json.dumps([tag, payload])\n",
    "            \n",
    "    def process(self, message):\n",
    "        if self.is_valid_message(message):\n",
    "            tag, telemetry = self.parse_message(message[2:])\n",
    "            if tag == 'telemetry':\n",
    "                steer_value = self.invoke_pid(float(telemetry['speed']),\n",
    "                                                float(telemetry['cte']),\n",
    "                                                float(telemetry['steering_angle']))\n",
    "                output = {\n",
    "                    'steering_angle': steer_value,\n",
    "                    'throttle': 0.3 }\n",
    "                return self.make_output_string('steer', output)\n",
    "        else:\n",
    "            return self.make_output_string('manual', {})"
   ]
  },
  {
   "cell_type": "code",
   "execution_count": null,
   "metadata": {
    "collapsed": false,
    "deletable": true,
    "editable": true
   },
   "outputs": [],
   "source": [
    "simulator = SimulatorResponder()\n",
    "\n",
    "async def hello(websocket, path):\n",
    "    while True:\n",
    "        message = await websocket.recv()\n",
    "        response = simulator.process(message)\n",
    "        await websocket.send(response)\n",
    "    \n",
    "start_server = websockets.serve(hello, 'localhost', 4567)\n",
    "asyncio.get_event_loop().run_until_complete(start_server)\n",
    "asyncio.get_event_loop().run_forever()"
   ]
  },
  {
   "cell_type": "code",
   "execution_count": null,
   "metadata": {
    "collapsed": true,
    "deletable": true,
    "editable": true
   },
   "outputs": [],
   "source": []
  }
 ],
 "metadata": {
  "kernelspec": {
   "display_name": "Python 3",
   "language": "python",
   "name": "python3"
  },
  "language_info": {
   "codemirror_mode": {
    "name": "ipython",
    "version": 3
   },
   "file_extension": ".py",
   "mimetype": "text/x-python",
   "name": "python",
   "nbconvert_exporter": "python",
   "pygments_lexer": "ipython3",
   "version": "3.5.2"
  },
  "widgets": {
   "state": {},
   "version": "1.1.2"
  }
 },
 "nbformat": 4,
 "nbformat_minor": 2
}
